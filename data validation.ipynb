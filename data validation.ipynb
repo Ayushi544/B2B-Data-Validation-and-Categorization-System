{
 "cells": [
  {
   "cell_type": "code",
   "execution_count": 1,
   "id": "3c78a250",
   "metadata": {},
   "outputs": [],
   "source": [
    "# B2B RFQ Data Validation and Categorization Script\n",
    "\n",
    "import pandas as pd\n",
    "import re\n"
   ]
  },
  {
   "cell_type": "code",
   "execution_count": null,
   "id": "488cad0f",
   "metadata": {},
   "outputs": [
    {
     "name": "stdout",
     "output_type": "stream",
     "text": [
      "   ticketId                                           title  \\\n",
      "0    112800  RFQ - Rodriguez, Figueroa and Sanchez - 01 Jul   \n",
      "1    112801                         PO - Blair PLC - 30 Jun   \n",
      "2    112802                      RFQ - Mayo-Bowman - 26 Nov   \n",
      "3    112803      RFQ - Snyder, Campos and Callahan - 26 May   \n",
      "4    112804                    Other - Hickman LLC - 18 Apr   \n",
      "\n",
      "                                         description  \\\n",
      "0  Quality throughout beautiful instead ahead des...   \n",
      "1  Bad fall pick those gun court attorney product...   \n",
      "2  Range successful simply director allow firm en...   \n",
      "3  Civil quite others his other life edge network...   \n",
      "4       Drive note bad rule staff within mouth call.   \n",
      "\n",
      "                    assignedTo                   companyName       branchName  \\\n",
      "0  lrobinson@pacheco-smith.com  Henderson, Ramirez and Lewis       Curtisfurt   \n",
      "1            shawn52@yahoo.com                   Clark-Adams  New Cynthiaside   \n",
      "2      dianafoster@hotmail.com                 Thomas-Taylor     Juliechester   \n",
      "3             usmith@baker.com       Evans, Fowler and Lynch     West Kathryn   \n",
      "4      josephbrennan@yahoo.com                   Hickman Ltd       Lake Larry   \n",
      "\n",
      "  statusName Location Remark       Possible Reason Assignee Changed  \n",
      "0       Open             NaN  Images in email body              Yes  \n",
      "1       Open     East Steven          Missing data               No  \n",
      "2       Open         Coxberg  Images in email body              Yes  \n",
      "3       Open             NaN  Images in email body               No  \n",
      "4       Open             NaN                   NaN               No  \n"
     ]
    }
   ],
   "source": [
    "\n",
    "# Correct file path and function\n",
    "data_path = \"C:/Users/stari/Downloads/B2B_RFQ_Data_Validation.xlsx\"\n",
    "df = pd.read_excel(data_path)\n",
    "\n",
    "# Define keyword mapping for categorization\n",
    "RFQ_keywords = ['quotation', 'request for quote', 'rfq', 'pr']\n",
    "PO_keywords = ['purchase order', 'po no', 'order confirmation']\n",
    "Other_keywords = ['query', 'support', 'issue']\n",
    "\n",
    "print(df.head())\n"
   ]
  },
  {
   "cell_type": "code",
   "execution_count": 5,
   "id": "95561634",
   "metadata": {},
   "outputs": [],
   "source": [
    "# Function to categorize tickets\n",
    "def categorize_ticket(title):\n",
    "    title = title.lower()\n",
    "    if any(word in title for word in RFQ_keywords):\n",
    "        return 'RFQ'\n",
    "    elif any(word in title for word in PO_keywords):\n",
    "        return 'PO'\n",
    "    elif any(word in title for word in Other_keywords):\n",
    "        return 'Other'\n",
    "    else:\n",
    "        return 'Uncategorized'\n"
   ]
  },
  {
   "cell_type": "code",
   "execution_count": 6,
   "id": "7c89c3ba",
   "metadata": {},
   "outputs": [],
   "source": [
    "\n",
    "# Apply categorization\n",
    "df['Category'] = df['title'].apply(categorize_ticket)\n",
    "\n",
    "# Check for missing data\n",
    "missing_location = df['Location Remark'].isnull().sum()\n",
    "missing_reason = df['Possible Reason'].isnull().sum()\n",
    "\n",
    "# Identify reassignments\n",
    "df['Reassigned'] = df['Assignee Changed'].apply(lambda x: 'Yes' if x == 'Yes' else 'No')\n"
   ]
  },
  {
   "cell_type": "code",
   "execution_count": 8,
   "id": "68b82804",
   "metadata": {},
   "outputs": [
    {
     "name": "stdout",
     "output_type": "stream",
     "text": [
      "Data processed successfully. Saved to C:/Users/stari/Downloads/processed_data.csv\n"
     ]
    }
   ],
   "source": [
    "\n",
    "# Save the processed dataset\n",
    "output_path = 'C:/Users/stari/Downloads/processed_data.csv'\n",
    "df.to_csv(output_path, index=False)\n",
    "\n",
    "print(f\"Data processed successfully. Saved to {output_path}\")\n"
   ]
  }
 ],
 "metadata": {
  "kernelspec": {
   "display_name": "base",
   "language": "python",
   "name": "python3"
  },
  "language_info": {
   "codemirror_mode": {
    "name": "ipython",
    "version": 3
   },
   "file_extension": ".py",
   "mimetype": "text/x-python",
   "name": "python",
   "nbconvert_exporter": "python",
   "pygments_lexer": "ipython3",
   "version": "3.12.7"
  }
 },
 "nbformat": 4,
 "nbformat_minor": 5
}
